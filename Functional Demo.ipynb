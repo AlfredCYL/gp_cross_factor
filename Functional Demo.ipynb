{
 "cells": [
  {
   "attachments": {},
   "cell_type": "markdown",
   "metadata": {},
   "source": [
    "# Functionality Display —— gp_cross_factor "
   ]
  },
  {
   "attachments": {},
   "cell_type": "markdown",
   "metadata": {},
   "source": [
    "## Load Data and Packages"
   ]
  },
  {
   "cell_type": "code",
   "execution_count": 1,
   "metadata": {
    "tags": []
   },
   "outputs": [],
   "source": [
    "import sys\n",
    "sys.path.append('./gp_cross_factor/')\n",
    "\n",
    "import warnings\n",
    "import numpy as np\n",
    "import pandas as pd\n",
    "import genetic\n",
    "\n",
    "np.random.seed(10)\n",
    "pd.set_option('display.max_columns', None)\n",
    "pd.set_option('expand_frame_repr', True)\n",
    "pd.set_option('display.unicode.ambiguous_as_wide', True)\n",
    "warnings.filterwarnings('ignore')"
   ]
  },
  {
   "cell_type": "code",
   "execution_count": 2,
   "metadata": {
    "tags": []
   },
   "outputs": [
    {
     "name": "stdout",
     "output_type": "stream",
     "text": [
      "(728, 4984)\n"
     ]
    }
   ],
   "source": [
    "Y = np.load(\"./data/Y.npy\")\n",
    "print(Y.shape)"
   ]
  },
  {
   "cell_type": "code",
   "execution_count": 6,
   "metadata": {
    "tags": []
   },
   "outputs": [
    {
     "name": "stdout",
     "output_type": "stream",
     "text": [
      "(728, 6, 4984)\n"
     ]
    }
   ],
   "source": [
    "X = np.load(\"./data/X.npy\")\n",
    "print(X.shape)"
   ]
  },
  {
   "cell_type": "code",
   "execution_count": 7,
   "metadata": {},
   "outputs": [],
   "source": [
    "feature_names = [\"open\", \"close\", \"high\", \"low\",\"vwap\",\"volume\"]"
   ]
  },
  {
   "attachments": {},
   "cell_type": "markdown",
   "metadata": {},
   "source": [
    "## Set Function Sets"
   ]
  },
  {
   "cell_type": "code",
   "execution_count": 8,
   "metadata": {
    "tags": []
   },
   "outputs": [],
   "source": [
    "max_samples=0.8\n",
    "sample_weight = np.ones(X.shape[0])\n",
    "num_div = int(X.shape[0] * max_samples)\n",
    "sample_weight[num_div:] = 0"
   ]
  },
  {
   "cell_type": "code",
   "execution_count": 9,
   "metadata": {
    "collapsed": false,
    "jupyter": {
     "outputs_hidden": false
    },
    "tags": []
   },
   "outputs": [],
   "source": [
    "function_set_all = list(genetic._all_func_dictionary.keys())\n",
    "remove_list = ['tan','sin','cos','neg']\n",
    "function_set = [item for item in function_set_all if item not in remove_list]"
   ]
  },
  {
   "attachments": {},
   "cell_type": "markdown",
   "metadata": {},
   "source": [
    "## Train GP Model"
   ]
  },
  {
   "cell_type": "code",
   "execution_count": 10,
   "metadata": {},
   "outputs": [
    {
     "data": {
      "text/plain": [
       "['rank_ic', 'rank_icir', 'quantile_max', 'quantile_mono']"
      ]
     },
     "execution_count": 10,
     "metadata": {},
     "output_type": "execute_result"
    }
   ],
   "source": [
    "# list all fitness metrics\n",
    "list(genetic._extra_map.keys())"
   ]
  },
  {
   "cell_type": "code",
   "execution_count": 11,
   "metadata": {
    "collapsed": false,
    "jupyter": {
     "outputs_hidden": false
    },
    "tags": []
   },
   "outputs": [],
   "source": [
    "gp_sample = genetic.SymbolicTransformer(generations=4,\n",
    "                                        population_size=50,\n",
    "                                        tournament_size=20,\n",
    "                                        init_depth=(1,3),\n",
    "                                        hall_of_fame=20,\n",
    "                                        n_components=10,\n",
    "                                        function_set=function_set,\n",
    "                                        metric=\"rank_icir\",\n",
    "                                        const_range=None,\n",
    "                                        p_crossover=0.5,\n",
    "                                        p_hoist_mutation=0.1,\n",
    "                                        p_subtree_mutation=0.1,\n",
    "                                        p_point_mutation=0.1,\n",
    "                                        p_point_replace=0.2,\n",
    "                                        p_reproduction = 0.1,\n",
    "                                        parsimony_coefficient = 0.001, # raw_fitness - parsimony_coefficient * len(program)\n",
    "                                        feature_names=feature_names,\n",
    "                                        max_samples=max_samples, verbose=1,\n",
    "                                        random_state=0, n_jobs=5)"
   ]
  },
  {
   "cell_type": "code",
   "execution_count": 12,
   "metadata": {
    "collapsed": false,
    "jupyter": {
     "outputs_hidden": false
    },
    "tags": []
   },
   "outputs": [
    {
     "name": "stdout",
     "output_type": "stream",
     "text": [
      "     |        Population Metrics         |             Best Individual Metrics              |Time Remaining |\n",
      "----- ----------------------------------- -------------------------------------------------- ---------------\n",
      " Gen     Length      Depth      Fitness       Length        Depth      Fitness  OOB_Fitness         Time\n",
      "  0       3.58       2.10       0.0948         5.00         2.00        0.297       0.3188       15.04m\n",
      "  1       4.16       1.94       0.2373         3.00         1.00        0.311       0.4526       48.16m\n",
      "  2       3.70       1.74       0.2786         3.00         1.00        0.311       0.4526        1.16m\n",
      "  3       2.62       1.04       0.2703         2.00         1.00        0.314       0.3975        0.00s\n"
     ]
    },
    {
     "data": {
      "text/html": [
       "<style>#sk-container-id-1 {color: black;}#sk-container-id-1 pre{padding: 0;}#sk-container-id-1 div.sk-toggleable {background-color: white;}#sk-container-id-1 label.sk-toggleable__label {cursor: pointer;display: block;width: 100%;margin-bottom: 0;padding: 0.3em;box-sizing: border-box;text-align: center;}#sk-container-id-1 label.sk-toggleable__label-arrow:before {content: \"▸\";float: left;margin-right: 0.25em;color: #696969;}#sk-container-id-1 label.sk-toggleable__label-arrow:hover:before {color: black;}#sk-container-id-1 div.sk-estimator:hover label.sk-toggleable__label-arrow:before {color: black;}#sk-container-id-1 div.sk-toggleable__content {max-height: 0;max-width: 0;overflow: hidden;text-align: left;background-color: #f0f8ff;}#sk-container-id-1 div.sk-toggleable__content pre {margin: 0.2em;color: black;border-radius: 0.25em;background-color: #f0f8ff;}#sk-container-id-1 input.sk-toggleable__control:checked~div.sk-toggleable__content {max-height: 200px;max-width: 100%;overflow: auto;}#sk-container-id-1 input.sk-toggleable__control:checked~label.sk-toggleable__label-arrow:before {content: \"▾\";}#sk-container-id-1 div.sk-estimator input.sk-toggleable__control:checked~label.sk-toggleable__label {background-color: #d4ebff;}#sk-container-id-1 div.sk-label input.sk-toggleable__control:checked~label.sk-toggleable__label {background-color: #d4ebff;}#sk-container-id-1 input.sk-hidden--visually {border: 0;clip: rect(1px 1px 1px 1px);clip: rect(1px, 1px, 1px, 1px);height: 1px;margin: -1px;overflow: hidden;padding: 0;position: absolute;width: 1px;}#sk-container-id-1 div.sk-estimator {font-family: monospace;background-color: #f0f8ff;border: 1px dotted black;border-radius: 0.25em;box-sizing: border-box;margin-bottom: 0.5em;}#sk-container-id-1 div.sk-estimator:hover {background-color: #d4ebff;}#sk-container-id-1 div.sk-parallel-item::after {content: \"\";width: 100%;border-bottom: 1px solid gray;flex-grow: 1;}#sk-container-id-1 div.sk-label:hover label.sk-toggleable__label {background-color: #d4ebff;}#sk-container-id-1 div.sk-serial::before {content: \"\";position: absolute;border-left: 1px solid gray;box-sizing: border-box;top: 0;bottom: 0;left: 50%;z-index: 0;}#sk-container-id-1 div.sk-serial {display: flex;flex-direction: column;align-items: center;background-color: white;padding-right: 0.2em;padding-left: 0.2em;position: relative;}#sk-container-id-1 div.sk-item {position: relative;z-index: 1;}#sk-container-id-1 div.sk-parallel {display: flex;align-items: stretch;justify-content: center;background-color: white;position: relative;}#sk-container-id-1 div.sk-item::before, #sk-container-id-1 div.sk-parallel-item::before {content: \"\";position: absolute;border-left: 1px solid gray;box-sizing: border-box;top: 0;bottom: 0;left: 50%;z-index: -1;}#sk-container-id-1 div.sk-parallel-item {display: flex;flex-direction: column;z-index: 1;position: relative;background-color: white;}#sk-container-id-1 div.sk-parallel-item:first-child::after {align-self: flex-end;width: 50%;}#sk-container-id-1 div.sk-parallel-item:last-child::after {align-self: flex-start;width: 50%;}#sk-container-id-1 div.sk-parallel-item:only-child::after {width: 0;}#sk-container-id-1 div.sk-dashed-wrapped {border: 1px dashed gray;margin: 0 0.4em 0.5em 0.4em;box-sizing: border-box;padding-bottom: 0.4em;background-color: white;}#sk-container-id-1 div.sk-label label {font-family: monospace;font-weight: bold;display: inline-block;line-height: 1.2em;}#sk-container-id-1 div.sk-label-container {text-align: center;}#sk-container-id-1 div.sk-container {/* jupyter's `normalize.less` sets `[hidden] { display: none; }` but bootstrap.min.css set `[hidden] { display: none !important; }` so we also need the `!important` here to be able to override the default hidden behavior on the sphinx rendered scikit-learn.org. See: https://github.com/scikit-learn/scikit-learn/issues/21755 */display: inline-block !important;position: relative;}#sk-container-id-1 div.sk-text-repr-fallback {display: none;}</style><div id=\"sk-container-id-1\" class=\"sk-top-container\"><div class=\"sk-text-repr-fallback\"><pre>[ts_max_20(volume),\n",
       " max(vwap, volume),\n",
       " max(vwap, volume),\n",
       " max(vwap, volume),\n",
       " max(vwap, volume),\n",
       " max(vwap, volume),\n",
       " sub(open, volume),\n",
       " max(low, volume),\n",
       " max(open, volume),\n",
       " max(open, volume)]</pre><b>In a Jupyter environment, please rerun this cell to show the HTML representation or trust the notebook. <br />On GitHub, the HTML representation is unable to render, please try loading this page with nbviewer.org.</b></div><div class=\"sk-container\" hidden><div class=\"sk-item\"><div class=\"sk-estimator sk-toggleable\"><input class=\"sk-toggleable__control sk-hidden--visually\" id=\"sk-estimator-id-1\" type=\"checkbox\" checked><label for=\"sk-estimator-id-1\" class=\"sk-toggleable__label sk-toggleable__label-arrow\">SymbolicTransformer</label><div class=\"sk-toggleable__content\"><pre>[ts_max_20(volume),\n",
       " max(vwap, volume),\n",
       " max(vwap, volume),\n",
       " max(vwap, volume),\n",
       " max(vwap, volume),\n",
       " max(vwap, volume),\n",
       " sub(open, volume),\n",
       " max(low, volume),\n",
       " max(open, volume),\n",
       " max(open, volume)]</pre></div></div></div></div></div>"
      ],
      "text/plain": [
       "SymbolicTransformer(const_range=None,\n",
       "                    feature_names=['open', 'close', 'high', 'low', 'vwap',\n",
       "                                   'volume'],\n",
       "                    function_set=['add', 'sub', 'mul', 'div', 'sqrt', 'log',\n",
       "                                  'abs', 'inv', 'max', 'min', 'ts_std_5',\n",
       "                                  'ts_mean_5', 'ts_max_5', 'ts_min_5',\n",
       "                                  'ts_correlation_5', 'ts_argmin_5',\n",
       "                                  'ts_argmax_5', 'ts_rank_5', 'ts_std_10',\n",
       "                                  'ts_mean_10', 'ts_max_10', 'ts_min_10',\n",
       "                                  'ts_correlation_10', 'ts_a...\n",
       "                                  'ts_argmax_10', 'ts_rank_10', 'ts_std_20',\n",
       "                                  'ts_mean_20', 'ts_max_20', 'ts_min_20', ...],\n",
       "                    generations=4, hall_of_fame=20, init_depth=(1, 3),\n",
       "                    max_samples=0.8, metric='rank_icir', n_jobs=5,\n",
       "                    p_crossover=0.5, p_hoist_mutation=0.1, p_point_mutation=0.1,\n",
       "                    p_point_replace=0.2, p_reproduction=0.1,\n",
       "                    p_subtree_mutation=0.1, parsimony_coefficient='auto',\n",
       "                    population_size=50, random_state=0, verbose=1)"
      ]
     },
     "execution_count": 12,
     "metadata": {},
     "output_type": "execute_result"
    }
   ],
   "source": [
    "gp_sample.fit_3D(X, Y, sample_weight=sample_weight,baseline=0.02, need_parallel=True)"
   ]
  },
  {
   "cell_type": "code",
   "execution_count": 26,
   "metadata": {
    "tags": []
   },
   "outputs": [
    {
     "data": {
      "text/html": [
       "<div>\n",
       "<style scoped>\n",
       "    .dataframe tbody tr th:only-of-type {\n",
       "        vertical-align: middle;\n",
       "    }\n",
       "\n",
       "    .dataframe tbody tr th {\n",
       "        vertical-align: top;\n",
       "    }\n",
       "\n",
       "    .dataframe thead th {\n",
       "        text-align: right;\n",
       "    }\n",
       "</style>\n",
       "<table border=\"1\" class=\"dataframe\">\n",
       "  <thead>\n",
       "    <tr style=\"text-align: right;\">\n",
       "      <th></th>\n",
       "      <th>Expression</th>\n",
       "      <th>Fitness</th>\n",
       "      <th>OOB Fitness</th>\n",
       "      <th>Length</th>\n",
       "      <th>Depth</th>\n",
       "    </tr>\n",
       "  </thead>\n",
       "  <tbody>\n",
       "    <tr>\n",
       "      <th>176</th>\n",
       "      <td>ts_max_20(volume)</td>\n",
       "      <td>0.314419</td>\n",
       "      <td>0.397478</td>\n",
       "      <td>2</td>\n",
       "      <td>1</td>\n",
       "    </tr>\n",
       "    <tr>\n",
       "      <th>117</th>\n",
       "      <td>max(vwap, volume)</td>\n",
       "      <td>0.311144</td>\n",
       "      <td>0.452588</td>\n",
       "      <td>3</td>\n",
       "      <td>1</td>\n",
       "    </tr>\n",
       "    <tr>\n",
       "      <th>143</th>\n",
       "      <td>sub(open, volume)</td>\n",
       "      <td>0.311051</td>\n",
       "      <td>0.452598</td>\n",
       "      <td>3</td>\n",
       "      <td>1</td>\n",
       "    </tr>\n",
       "    <tr>\n",
       "      <th>173</th>\n",
       "      <td>max(low, volume)</td>\n",
       "      <td>0.311035</td>\n",
       "      <td>0.452588</td>\n",
       "      <td>3</td>\n",
       "      <td>1</td>\n",
       "    </tr>\n",
       "    <tr>\n",
       "      <th>78</th>\n",
       "      <td>max(open, volume)</td>\n",
       "      <td>0.311035</td>\n",
       "      <td>0.452588</td>\n",
       "      <td>3</td>\n",
       "      <td>1</td>\n",
       "    </tr>\n",
       "    <tr>\n",
       "      <th>...</th>\n",
       "      <td>...</td>\n",
       "      <td>...</td>\n",
       "      <td>...</td>\n",
       "      <td>...</td>\n",
       "      <td>...</td>\n",
       "    </tr>\n",
       "    <tr>\n",
       "      <th>39</th>\n",
       "      <td>ts_min_40(high)</td>\n",
       "      <td>0.038796</td>\n",
       "      <td>0.085256</td>\n",
       "      <td>2</td>\n",
       "      <td>1</td>\n",
       "    </tr>\n",
       "    <tr>\n",
       "      <th>23</th>\n",
       "      <td>log(ts_min_40(power_3(close)))</td>\n",
       "      <td>0.037759</td>\n",
       "      <td>0.084755</td>\n",
       "      <td>4</td>\n",
       "      <td>3</td>\n",
       "    </tr>\n",
       "    <tr>\n",
       "      <th>33</th>\n",
       "      <td>ts_min_40(low)</td>\n",
       "      <td>0.036218</td>\n",
       "      <td>0.083113</td>\n",
       "      <td>2</td>\n",
       "      <td>1</td>\n",
       "    </tr>\n",
       "    <tr>\n",
       "      <th>43</th>\n",
       "      <td>ts_argmax_10(ts_argmin_10(ts_std_60(low)))</td>\n",
       "      <td>0.028684</td>\n",
       "      <td>0.007302</td>\n",
       "      <td>4</td>\n",
       "      <td>3</td>\n",
       "    </tr>\n",
       "    <tr>\n",
       "      <th>2</th>\n",
       "      <td>ts_std_5(delay_40(ts_argmin_10(low)))</td>\n",
       "      <td>0.027907</td>\n",
       "      <td>0.148984</td>\n",
       "      <td>4</td>\n",
       "      <td>3</td>\n",
       "    </tr>\n",
       "  </tbody>\n",
       "</table>\n",
       "<p>82 rows × 5 columns</p>\n",
       "</div>"
      ],
      "text/plain": [
       "                                     Expression   Fitness  OOB Fitness  \\\n",
       "176                           ts_max_20(volume)  0.314419     0.397478   \n",
       "117                           max(vwap, volume)  0.311144     0.452588   \n",
       "143                           sub(open, volume)  0.311051     0.452598   \n",
       "173                            max(low, volume)  0.311035     0.452588   \n",
       "78                            max(open, volume)  0.311035     0.452588   \n",
       "..                                          ...       ...          ...   \n",
       "39                              ts_min_40(high)  0.038796     0.085256   \n",
       "23               log(ts_min_40(power_3(close)))  0.037759     0.084755   \n",
       "33                               ts_min_40(low)  0.036218     0.083113   \n",
       "43   ts_argmax_10(ts_argmin_10(ts_std_60(low)))  0.028684     0.007302   \n",
       "2         ts_std_5(delay_40(ts_argmin_10(low)))  0.027907     0.148984   \n",
       "\n",
       "     Length  Depth  \n",
       "176       2      1  \n",
       "117       3      1  \n",
       "143       3      1  \n",
       "173       3      1  \n",
       "78        3      1  \n",
       "..      ...    ...  \n",
       "39        2      1  \n",
       "23        4      3  \n",
       "33        2      1  \n",
       "43        4      3  \n",
       "2         4      3  \n",
       "\n",
       "[82 rows x 5 columns]"
      ]
     },
     "execution_count": 26,
     "metadata": {},
     "output_type": "execute_result"
    }
   ],
   "source": [
    "best_result = gp_sample.show_program(baseline=True)\n",
    "res = pd.DataFrame(best_result).drop_duplicates(subset=\"Expression\").sort_values(by='Fitness',ascending = False)\n",
    "res.to_csv(\"./Demo_Result.csv\",index=True,index_label='idx')\n",
    "res"
   ]
  },
  {
   "attachments": {},
   "cell_type": "markdown",
   "metadata": {},
   "source": [
    "## Visualize Result"
   ]
  },
  {
   "cell_type": "code",
   "execution_count": 28,
   "metadata": {},
   "outputs": [
    {
     "data": {
      "text/plain": [
       "'ts_max_20(volume)'"
      ]
     },
     "execution_count": 28,
     "metadata": {},
     "output_type": "execute_result"
    }
   ],
   "source": [
    "target_fac = gp_sample._satisfied_programs[176]\n",
    "target_fac.__str__()"
   ]
  },
  {
   "cell_type": "code",
   "execution_count": 29,
   "metadata": {},
   "outputs": [
    {
     "name": "stdout",
     "output_type": "stream",
     "text": [
      "digraph program {\n",
      "node [style=filled]\n",
      "0 [label=\"ts_max_20\", fillcolor=\"#136ed4\"] ;\n",
      "1 [label=\"volume\", fillcolor=\"#60a6f6\"] ;\n",
      "0 -> 1 ;\n",
      "}\n"
     ]
    }
   ],
   "source": [
    "print(target_fac.export_graphviz())"
   ]
  }
 ],
 "metadata": {
  "kernelspec": {
   "display_name": "Python 3 (ipykernel)",
   "language": "python",
   "name": "python3"
  },
  "language_info": {
   "codemirror_mode": {
    "name": "ipython",
    "version": 3
   },
   "file_extension": ".py",
   "mimetype": "text/x-python",
   "name": "python",
   "nbconvert_exporter": "python",
   "pygments_lexer": "ipython3",
   "version": "3.10.13"
  }
 },
 "nbformat": 4,
 "nbformat_minor": 4
}
