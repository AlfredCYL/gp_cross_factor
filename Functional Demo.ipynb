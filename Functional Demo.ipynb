{
 "cells": [
  {
   "attachments": {},
   "cell_type": "markdown",
   "metadata": {},
   "source": [
    "# Functionality Display —— gp_cross_factor "
   ]
  },
  {
   "attachments": {},
   "cell_type": "markdown",
   "metadata": {},
   "source": [
    "## Load Data and Packages"
   ]
  },
  {
   "cell_type": "code",
   "execution_count": 1,
   "metadata": {
    "tags": []
   },
   "outputs": [],
   "source": [
    "import warnings\n",
    "import numpy as np\n",
    "import pandas as pd\n",
    "\n",
    "from gp_cross_factor import genetic\n",
    "\n",
    "warnings.filterwarnings('ignore')\n",
    "np.random.seed(10)\n",
    "# pd.set_option('display.max_columns', None)\n",
    "# pd.set_option('expand_frame_repr', True)\n",
    "# pd.set_option('display.unicode.ambiguous_as_wide', True)"
   ]
  },
  {
   "cell_type": "code",
   "execution_count": 2,
   "metadata": {
    "tags": []
   },
   "outputs": [
    {
     "name": "stdout",
     "output_type": "stream",
     "text": [
      "(728, 4984)\n"
     ]
    }
   ],
   "source": [
    "Y = np.load(\"./data/Y.npy\")\n",
    "print(Y.shape)"
   ]
  },
  {
   "cell_type": "code",
   "execution_count": 3,
   "metadata": {
    "tags": []
   },
   "outputs": [
    {
     "name": "stdout",
     "output_type": "stream",
     "text": [
      "(728, 6, 4984)\n"
     ]
    }
   ],
   "source": [
    "X = np.load(\"./data/X.npy\")\n",
    "print(X.shape)"
   ]
  },
  {
   "cell_type": "code",
   "execution_count": 4,
   "metadata": {},
   "outputs": [],
   "source": [
    "feature_names = [\"open\", \"close\", \"high\", \"low\",\"vwap\",\"volume\"]"
   ]
  },
  {
   "attachments": {},
   "cell_type": "markdown",
   "metadata": {},
   "source": [
    "## Set Function Sets"
   ]
  },
  {
   "cell_type": "code",
   "execution_count": 5,
   "metadata": {
    "tags": []
   },
   "outputs": [],
   "source": [
    "max_samples=0.8\n",
    "sample_weight = np.ones(X.shape[0])\n",
    "num_div = int(X.shape[0] * max_samples)\n",
    "sample_weight[num_div:] = 0"
   ]
  },
  {
   "cell_type": "code",
   "execution_count": 6,
   "metadata": {
    "collapsed": false,
    "jupyter": {
     "outputs_hidden": false
    },
    "tags": []
   },
   "outputs": [],
   "source": [
    "function_set_all = list(genetic._all_func_dictionary.keys())\n",
    "remove_list = ['tan','sin','cos','neg']\n",
    "function_set = [item for item in function_set_all if item not in remove_list]"
   ]
  },
  {
   "attachments": {},
   "cell_type": "markdown",
   "metadata": {},
   "source": [
    "## Train GP Model"
   ]
  },
  {
   "cell_type": "code",
   "execution_count": 7,
   "metadata": {},
   "outputs": [
    {
     "data": {
      "text/plain": [
       "['rank_ic', 'rank_icir', 'quantile_max', 'quantile_mono']"
      ]
     },
     "execution_count": 7,
     "metadata": {},
     "output_type": "execute_result"
    }
   ],
   "source": [
    "# list all fitness metrics\n",
    "list(genetic._extra_map.keys())"
   ]
  },
  {
   "cell_type": "code",
   "execution_count": 13,
   "metadata": {
    "collapsed": false,
    "jupyter": {
     "outputs_hidden": false
    },
    "tags": []
   },
   "outputs": [],
   "source": [
    "gp_sample = genetic.SymbolicTransformer(generations=3,\n",
    "                                        population_size=20,\n",
    "                                        tournament_size=10,\n",
    "                                        init_depth=(1,3),\n",
    "                                        hall_of_fame=5,\n",
    "                                        n_components=2,\n",
    "                                        function_set=function_set,\n",
    "                                        metric=\"rank_icir\",\n",
    "                                        const_range=None,\n",
    "                                        p_crossover=0.5,\n",
    "                                        p_hoist_mutation=0.1,\n",
    "                                        p_subtree_mutation=0.1,\n",
    "                                        p_point_mutation=0.1,\n",
    "                                        p_point_replace=0.2,\n",
    "                                        p_reproduction = 0.1,\n",
    "                                        parsimony_coefficient = 0.001, # raw_fitness - parsimony_coefficient * len(program)\n",
    "                                        feature_names=feature_names,\n",
    "                                        max_samples=max_samples, verbose=2,\n",
    "                                        random_state=1234, n_jobs=5)"
   ]
  },
  {
   "cell_type": "code",
   "execution_count": 14,
   "metadata": {
    "collapsed": false,
    "jupyter": {
     "outputs_hidden": false
    },
    "tags": []
   },
   "outputs": [
    {
     "name": "stdout",
     "output_type": "stream",
     "text": [
      "     |        Population Metrics         |             Best Individual Metrics              |Time Remaining |\n",
      "----- ----------------------------------- -------------------------------------------------- ---------------\n",
      " Gen     Length      Depth      Fitness       Length        Depth      Fitness  OOB_Fitness         Time\n"
     ]
    },
    {
     "name": "stderr",
     "output_type": "stream",
     "text": [
      "[Parallel(n_jobs=5)]: Using backend LokyBackend with 5 concurrent workers.\n",
      "[Parallel(n_jobs=5)]: Done  20 out of  20 | elapsed:   29.5s finished\n"
     ]
    },
    {
     "name": "stdout",
     "output_type": "stream",
     "text": [
      "  0       3.70       1.90       0.1281         2.00         1.00        0.335       0.4260        3.30m\n"
     ]
    },
    {
     "name": "stderr",
     "output_type": "stream",
     "text": [
      "[Parallel(n_jobs=5)]: Using backend LokyBackend with 5 concurrent workers.\n",
      "[Parallel(n_jobs=5)]: Done  20 out of  20 | elapsed:   14.2s finished\n"
     ]
    },
    {
     "name": "stdout",
     "output_type": "stream",
     "text": [
      "  1       2.60       1.35       0.2356         2.00         1.00        0.335       0.4260        1.00m\n"
     ]
    },
    {
     "name": "stderr",
     "output_type": "stream",
     "text": [
      "[Parallel(n_jobs=5)]: Using backend LokyBackend with 5 concurrent workers.\n",
      "[Parallel(n_jobs=5)]: Done  20 out of  20 | elapsed:   20.5s finished\n"
     ]
    },
    {
     "name": "stdout",
     "output_type": "stream",
     "text": [
      "  2       2.55       1.25       0.2487         2.00         1.00        0.335       0.4260        0.00s\n"
     ]
    }
   ],
   "source": [
    "gp_sample.fit_3D(X, Y, sample_weight=sample_weight,baseline=0.2, need_parallel=True)"
   ]
  },
  {
   "cell_type": "code",
   "execution_count": 10,
   "metadata": {
    "tags": []
   },
   "outputs": [
    {
     "data": {
      "text/html": [
       "<div>\n",
       "<style scoped>\n",
       "    .dataframe tbody tr th:only-of-type {\n",
       "        vertical-align: middle;\n",
       "    }\n",
       "\n",
       "    .dataframe tbody tr th {\n",
       "        vertical-align: top;\n",
       "    }\n",
       "\n",
       "    .dataframe thead th {\n",
       "        text-align: right;\n",
       "    }\n",
       "</style>\n",
       "<table border=\"1\" class=\"dataframe\">\n",
       "  <thead>\n",
       "    <tr style=\"text-align: right;\">\n",
       "      <th></th>\n",
       "      <th>Expression</th>\n",
       "      <th>Fitness</th>\n",
       "      <th>OOB Fitness</th>\n",
       "      <th>Length</th>\n",
       "      <th>Depth</th>\n",
       "    </tr>\n",
       "  </thead>\n",
       "  <tbody>\n",
       "    <tr>\n",
       "      <th>0</th>\n",
       "      <td>ts_std_20(volume)</td>\n",
       "      <td>0.334846</td>\n",
       "      <td>0.425952</td>\n",
       "      <td>2</td>\n",
       "      <td>1</td>\n",
       "    </tr>\n",
       "    <tr>\n",
       "      <th>9</th>\n",
       "      <td>volume</td>\n",
       "      <td>0.311036</td>\n",
       "      <td>0.452586</td>\n",
       "      <td>1</td>\n",
       "      <td>0</td>\n",
       "    </tr>\n",
       "    <tr>\n",
       "      <th>26</th>\n",
       "      <td>ts_max_60(volume)</td>\n",
       "      <td>0.276911</td>\n",
       "      <td>0.261959</td>\n",
       "      <td>2</td>\n",
       "      <td>1</td>\n",
       "    </tr>\n",
       "    <tr>\n",
       "      <th>13</th>\n",
       "      <td>delta_2(ts_argmax_60(ts_correlation_10(vwap, o...</td>\n",
       "      <td>0.244533</td>\n",
       "      <td>0.079844</td>\n",
       "      <td>5</td>\n",
       "      <td>3</td>\n",
       "    </tr>\n",
       "    <tr>\n",
       "      <th>27</th>\n",
       "      <td>delta_2(ts_argmax_60(ts_correlation_10(vwap, d...</td>\n",
       "      <td>0.229625</td>\n",
       "      <td>0.199960</td>\n",
       "      <td>6</td>\n",
       "      <td>4</td>\n",
       "    </tr>\n",
       "    <tr>\n",
       "      <th>1</th>\n",
       "      <td>delta_2(close)</td>\n",
       "      <td>0.221062</td>\n",
       "      <td>0.333318</td>\n",
       "      <td>2</td>\n",
       "      <td>1</td>\n",
       "    </tr>\n",
       "    <tr>\n",
       "      <th>2</th>\n",
       "      <td>delta_2(ts_argmax_60(max(vwap, open)))</td>\n",
       "      <td>0.202969</td>\n",
       "      <td>0.222684</td>\n",
       "      <td>5</td>\n",
       "      <td>3</td>\n",
       "    </tr>\n",
       "  </tbody>\n",
       "</table>\n",
       "</div>"
      ],
      "text/plain": [
       "                                           Expression   Fitness  OOB Fitness  \\\n",
       "0                                   ts_std_20(volume)  0.334846     0.425952   \n",
       "9                                              volume  0.311036     0.452586   \n",
       "26                                  ts_max_60(volume)  0.276911     0.261959   \n",
       "13  delta_2(ts_argmax_60(ts_correlation_10(vwap, o...  0.244533     0.079844   \n",
       "27  delta_2(ts_argmax_60(ts_correlation_10(vwap, d...  0.229625     0.199960   \n",
       "1                                      delta_2(close)  0.221062     0.333318   \n",
       "2              delta_2(ts_argmax_60(max(vwap, open)))  0.202969     0.222684   \n",
       "\n",
       "    Length  Depth  \n",
       "0        2      1  \n",
       "9        1      0  \n",
       "26       2      1  \n",
       "13       5      3  \n",
       "27       6      4  \n",
       "1        2      1  \n",
       "2        5      3  "
      ]
     },
     "execution_count": 10,
     "metadata": {},
     "output_type": "execute_result"
    }
   ],
   "source": [
    "best_result = gp_sample.show_program(baseline=True)\n",
    "res = pd.DataFrame(best_result).drop_duplicates(subset=\"Expression\").sort_values(by='Fitness',ascending = False)\n",
    "res.to_csv(\"./Demo_Result.csv\",index=True,index_label='idx')\n",
    "res"
   ]
  },
  {
   "attachments": {},
   "cell_type": "markdown",
   "metadata": {},
   "source": [
    "## Visualize Result"
   ]
  },
  {
   "cell_type": "code",
   "execution_count": 11,
   "metadata": {},
   "outputs": [
    {
     "data": {
      "text/plain": [
       "'ts_std_20(volume)'"
      ]
     },
     "execution_count": 11,
     "metadata": {},
     "output_type": "execute_result"
    }
   ],
   "source": [
    "target_fac = gp_sample._satisfied_programs[0]\n",
    "target_fac.__str__()"
   ]
  },
  {
   "cell_type": "code",
   "execution_count": 12,
   "metadata": {},
   "outputs": [
    {
     "name": "stdout",
     "output_type": "stream",
     "text": [
      "digraph program {\n",
      "node [style=filled]\n",
      "0 [label=\"ts_std_20\", fillcolor=\"#136ed4\"] ;\n",
      "1 [label=\"volume\", fillcolor=\"#60a6f6\"] ;\n",
      "0 -> 1 ;\n",
      "}\n"
     ]
    }
   ],
   "source": [
    "print(target_fac.export_graphviz())"
   ]
  }
 ],
 "metadata": {
  "kernelspec": {
   "display_name": "Python 3 (ipykernel)",
   "language": "python",
   "name": "python3"
  },
  "language_info": {
   "codemirror_mode": {
    "name": "ipython",
    "version": 3
   },
   "file_extension": ".py",
   "mimetype": "text/x-python",
   "name": "python",
   "nbconvert_exporter": "python",
   "pygments_lexer": "ipython3",
   "version": "3.12.4"
  }
 },
 "nbformat": 4,
 "nbformat_minor": 4
}
