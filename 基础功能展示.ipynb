{
 "cells": [
  {
   "attachments": {},
   "cell_type": "markdown",
   "metadata": {},
   "source": [
    "# gp_cross_factor 功能展示"
   ]
  },
  {
   "cell_type": "code",
   "execution_count": 1,
   "metadata": {
    "tags": []
   },
   "outputs": [],
   "source": [
    "### 导入相关内容\n",
    "import warnings\n",
    "import os\n",
    "import numpy as np\n",
    "import pandas as pd\n",
    "from add_ts_function import ts_std_10, ts_max_10,  ts_mean_10\n",
    "import genetic\n",
    "np.random.seed(10)\n",
    "pd.set_option('display.max_columns', None)\n",
    "pd.set_option('expand_frame_repr', True)\n",
    "pd.set_option('display.unicode.ambiguous_as_wide', True)\n",
    "warnings.filterwarnings('ignore')\n"
   ]
  },
  {
   "cell_type": "code",
   "execution_count": 2,
   "metadata": {
    "tags": []
   },
   "outputs": [
    {
     "name": "stdout",
     "output_type": "stream",
     "text": [
      "(728, 4984)\n"
     ]
    }
   ],
   "source": [
    "Y = np.load(\"./Y.npy\")\n",
    "print(Y.shape)"
   ]
  },
  {
   "cell_type": "code",
   "execution_count": 3,
   "metadata": {
    "tags": []
   },
   "outputs": [
    {
     "name": "stdout",
     "output_type": "stream",
     "text": [
      "(728, 6, 4984)\n"
     ]
    }
   ],
   "source": [
    "X = np.load(\"./X.npy\")\n",
    "print(X.shape)"
   ]
  },
  {
   "cell_type": "code",
   "execution_count": null,
   "metadata": {},
   "outputs": [],
   "source": [
    "feature_names = [\"open\", \"close\", \"high\", \"low\",\"vwap\",\"volume\"]"
   ]
  },
  {
   "cell_type": "code",
   "execution_count": 6,
   "metadata": {
    "tags": []
   },
   "outputs": [],
   "source": [
    "max_samples=0.8\n",
    "sample_weight = np.ones(X.shape[0])\n",
    "num_div = int(X.shape[0] * max_samples)\n",
    "sample_weight[num_div:] = 0"
   ]
  },
  {
   "cell_type": "code",
   "execution_count": 7,
   "metadata": {
    "collapsed": false,
    "jupyter": {
     "outputs_hidden": false
    },
    "tags": []
   },
   "outputs": [],
   "source": [
    "function_set_sample = ['common_add', 'common_sub', 'common_mul', 'common_div',\n",
    "                       'common_log', 'common_sqrt', 'common_abs', 'common_inv', 'common_max', 'common_min', 'common_tan'] # ,'common_sin','common_cos','common_neg'] \n",
    "my_function = [ts_std_10, ts_max_10,  ts_mean_10,]\n",
    "function_set = function_set_sample + my_function"
   ]
  },
  {
   "cell_type": "code",
   "execution_count": 8,
   "metadata": {
    "collapsed": false,
    "jupyter": {
     "outputs_hidden": false
    },
    "tags": []
   },
   "outputs": [],
   "source": [
    "gp_sample = genetic.SymbolicTransformer(generations=4,\n",
    "                                        population_size=200,\n",
    "                                        tournament_size=20,\n",
    "                                        init_depth=(1,4),\n",
    "                                        hall_of_fame=100,\n",
    "                                        n_components=20,\n",
    "                                        function_set=function_set,\n",
    "                                        metric=\"ic\",\n",
    "                                        const_range=(-1, 1),\n",
    "                                        p_crossover=0.4,\n",
    "                                        p_hoist_mutation=0.001,\n",
    "                                        p_subtree_mutation=0.01,\n",
    "                                        p_point_mutation=0.01,\n",
    "                                        p_point_replace=0.4,\n",
    "                                        parsimony_coefficient=\"auto\",\n",
    "                                        feature_names=feature_names,\n",
    "                                        max_samples=max_samples, verbose=1,\n",
    "                                        random_state=0, n_jobs=-4)"
   ]
  },
  {
   "cell_type": "code",
   "execution_count": null,
   "metadata": {
    "collapsed": false,
    "jupyter": {
     "outputs_hidden": false
    },
    "tags": []
   },
   "outputs": [],
   "source": [
    "gp_sample.fit_3D(X, Y,feature_names,sample_weight=sample_weight,baseIC=0.02,need_parallel=True)"
   ]
  },
  {
   "cell_type": "code",
   "execution_count": 10,
   "metadata": {
    "tags": []
   },
   "outputs": [],
   "source": [
    "baseIC_best_result = gp_sample.show_program(X,Y,feature_names,baseIC=True)\n",
    "res = pd.DataFrame(baseIC_best_result).drop_duplicates(subset=\"表达式\").sort_values(by='fitness',ascending = False)\n",
    "res.to_csv(\"./GP_demo.csv\",index=False)"
   ]
  },
  {
   "cell_type": "code",
   "execution_count": 11,
   "metadata": {
    "tags": []
   },
   "outputs": [
    {
     "data": {
      "text/html": [
       "<div>\n",
       "<style scoped>\n",
       "    .dataframe tbody tr th:only-of-type {\n",
       "        vertical-align: middle;\n",
       "    }\n",
       "\n",
       "    .dataframe tbody tr th {\n",
       "        vertical-align: top;\n",
       "    }\n",
       "\n",
       "    .dataframe thead th {\n",
       "        text-align: right;\n",
       "    }\n",
       "</style>\n",
       "<table border=\"1\" class=\"dataframe\">\n",
       "  <thead>\n",
       "    <tr style=\"text-align: right;\">\n",
       "      <th></th>\n",
       "      <th>表达式</th>\n",
       "      <th>fitness</th>\n",
       "      <th>OOB fitness</th>\n",
       "    </tr>\n",
       "  </thead>\n",
       "  <tbody>\n",
       "    <tr>\n",
       "      <th>393</th>\n",
       "      <td>ts_max_10(common_min(common_div(close, low), c...</td>\n",
       "      <td>0.048261</td>\n",
       "      <td>0.057060</td>\n",
       "    </tr>\n",
       "    <tr>\n",
       "      <th>89</th>\n",
       "      <td>ts_max_10(common_min(common_sub(common_div(vwa...</td>\n",
       "      <td>0.048100</td>\n",
       "      <td>0.056972</td>\n",
       "    </tr>\n",
       "    <tr>\n",
       "      <th>238</th>\n",
       "      <td>ts_max_10(common_min(common_sub(common_div(hig...</td>\n",
       "      <td>0.047534</td>\n",
       "      <td>0.056391</td>\n",
       "    </tr>\n",
       "    <tr>\n",
       "      <th>57</th>\n",
       "      <td>ts_max_10(common_min(common_sub(common_div(hig...</td>\n",
       "      <td>0.047353</td>\n",
       "      <td>0.056167</td>\n",
       "    </tr>\n",
       "    <tr>\n",
       "      <th>182</th>\n",
       "      <td>ts_max_10(common_min(common_sub(common_div(hig...</td>\n",
       "      <td>0.047353</td>\n",
       "      <td>0.056167</td>\n",
       "    </tr>\n",
       "    <tr>\n",
       "      <th>...</th>\n",
       "      <td>...</td>\n",
       "      <td>...</td>\n",
       "      <td>...</td>\n",
       "    </tr>\n",
       "    <tr>\n",
       "      <th>28</th>\n",
       "      <td>common_min(ts_std_10(low), common_sub(volume, ...</td>\n",
       "      <td>0.022198</td>\n",
       "      <td>0.027144</td>\n",
       "    </tr>\n",
       "    <tr>\n",
       "      <th>32</th>\n",
       "      <td>ts_mean_10(ts_std_10(common_min(open, low)))</td>\n",
       "      <td>0.021787</td>\n",
       "      <td>0.024736</td>\n",
       "    </tr>\n",
       "    <tr>\n",
       "      <th>3</th>\n",
       "      <td>ts_std_10(common_mul(common_min(common_sub(vwa...</td>\n",
       "      <td>0.021091</td>\n",
       "      <td>0.024621</td>\n",
       "    </tr>\n",
       "    <tr>\n",
       "      <th>31</th>\n",
       "      <td>common_sub(ts_max_10(common_mul(-0.298, volume...</td>\n",
       "      <td>0.021028</td>\n",
       "      <td>0.028567</td>\n",
       "    </tr>\n",
       "    <tr>\n",
       "      <th>38</th>\n",
       "      <td>common_div(common_sub(open, close), common_max...</td>\n",
       "      <td>0.020023</td>\n",
       "      <td>0.027437</td>\n",
       "    </tr>\n",
       "  </tbody>\n",
       "</table>\n",
       "<p>104 rows × 3 columns</p>\n",
       "</div>"
      ],
      "text/plain": [
       "                                                   表达式   fitness  OOB fitness\n",
       "393  ts_max_10(common_min(common_div(close, low), c...  0.048261     0.057060\n",
       "89   ts_max_10(common_min(common_sub(common_div(vwa...  0.048100     0.056972\n",
       "238  ts_max_10(common_min(common_sub(common_div(hig...  0.047534     0.056391\n",
       "57   ts_max_10(common_min(common_sub(common_div(hig...  0.047353     0.056167\n",
       "182  ts_max_10(common_min(common_sub(common_div(hig...  0.047353     0.056167\n",
       "..                                                 ...       ...          ...\n",
       "28   common_min(ts_std_10(low), common_sub(volume, ...  0.022198     0.027144\n",
       "32        ts_mean_10(ts_std_10(common_min(open, low)))  0.021787     0.024736\n",
       "3    ts_std_10(common_mul(common_min(common_sub(vwa...  0.021091     0.024621\n",
       "31   common_sub(ts_max_10(common_mul(-0.298, volume...  0.021028     0.028567\n",
       "38   common_div(common_sub(open, close), common_max...  0.020023     0.027437\n",
       "\n",
       "[104 rows x 3 columns]"
      ]
     },
     "execution_count": 11,
     "metadata": {},
     "output_type": "execute_result"
    }
   ],
   "source": [
    "res"
   ]
  },
  {
   "cell_type": "code",
   "execution_count": null,
   "metadata": {},
   "outputs": [],
   "source": []
  }
 ],
 "metadata": {
  "kernelspec": {
   "display_name": "Python 3 (ipykernel)",
   "language": "python",
   "name": "python3"
  },
  "language_info": {
   "codemirror_mode": {
    "name": "ipython",
    "version": 3
   },
   "file_extension": ".py",
   "mimetype": "text/x-python",
   "name": "python",
   "nbconvert_exporter": "python",
   "pygments_lexer": "ipython3",
   "version": "3.10.11"
  }
 },
 "nbformat": 4,
 "nbformat_minor": 4
}
